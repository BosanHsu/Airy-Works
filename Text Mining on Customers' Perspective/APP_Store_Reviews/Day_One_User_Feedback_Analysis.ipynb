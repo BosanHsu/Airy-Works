{
  "nbformat": 4,
  "nbformat_minor": 0,
  "metadata": {
    "colab": {
      "provenance": []
    },
    "kernelspec": {
      "name": "python3",
      "display_name": "Python 3"
    },
    "language_info": {
      "name": "python"
    }
  },
  "cells": [
    {
      "cell_type": "code",
      "execution_count": 1,
      "metadata": {
        "colab": {
          "base_uri": "https://localhost:8080/"
        },
        "id": "RVw9XhjztYDN",
        "outputId": "cc3eb84a-175b-4cce-953e-7ee81b0dbac5"
      },
      "outputs": [
        {
          "output_type": "stream",
          "name": "stdout",
          "text": [
            "Requirement already satisfied: numpy in /usr/local/lib/python3.10/dist-packages (1.25.2)\n",
            "Requirement already satisfied: pandas in /usr/local/lib/python3.10/dist-packages (2.0.3)\n",
            "Requirement already satisfied: python-dateutil>=2.8.2 in /usr/local/lib/python3.10/dist-packages (from pandas) (2.8.2)\n",
            "Requirement already satisfied: pytz>=2020.1 in /usr/local/lib/python3.10/dist-packages (from pandas) (2023.4)\n",
            "Requirement already satisfied: tzdata>=2022.1 in /usr/local/lib/python3.10/dist-packages (from pandas) (2024.1)\n",
            "Requirement already satisfied: numpy>=1.21.0 in /usr/local/lib/python3.10/dist-packages (from pandas) (1.25.2)\n",
            "Requirement already satisfied: six>=1.5 in /usr/local/lib/python3.10/dist-packages (from python-dateutil>=2.8.2->pandas) (1.16.0)\n",
            "Requirement already satisfied: nltk in /usr/local/lib/python3.10/dist-packages (3.8.1)\n",
            "Requirement already satisfied: click in /usr/local/lib/python3.10/dist-packages (from nltk) (8.1.7)\n",
            "Requirement already satisfied: joblib in /usr/local/lib/python3.10/dist-packages (from nltk) (1.4.2)\n",
            "Requirement already satisfied: regex>=2021.8.3 in /usr/local/lib/python3.10/dist-packages (from nltk) (2024.5.15)\n",
            "Requirement already satisfied: tqdm in /usr/local/lib/python3.10/dist-packages (from nltk) (4.66.4)\n",
            "Collecting html.parser\n",
            "  Downloading html-parser-0.2.tar.gz (904 bytes)\n",
            "  Preparing metadata (setup.py) ... \u001b[?25l\u001b[?25hdone\n",
            "Collecting ply (from html.parser)\n",
            "  Downloading ply-3.11-py2.py3-none-any.whl (49 kB)\n",
            "\u001b[2K     \u001b[90m━━━━━━━━━━━━━━━━━━━━━━━━━━━━━━━━━━━━━━━━\u001b[0m \u001b[32m49.6/49.6 kB\u001b[0m \u001b[31m2.1 MB/s\u001b[0m eta \u001b[36m0:00:00\u001b[0m\n",
            "\u001b[?25hBuilding wheels for collected packages: html.parser\n",
            "  Building wheel for html.parser (setup.py) ... \u001b[?25l\u001b[?25hdone\n",
            "  Created wheel for html.parser: filename=html_parser-0.2-py3-none-any.whl size=1286 sha256=5fe3dca254c46617a739c0b84cb8cfa184fbc3d097130c5008ba2113134db169\n",
            "  Stored in directory: /root/.cache/pip/wheels/86/72/1e/d46366a3a2a3843b8b19f0c3c4de3b850247f22b61966de114\n",
            "Successfully built html.parser\n",
            "Installing collected packages: ply, html.parser\n",
            "Successfully installed html.parser-0.2 ply-3.11\n"
          ]
        },
        {
          "output_type": "stream",
          "name": "stderr",
          "text": [
            "[nltk_data] Downloading package omw-1.4 to /root/nltk_data...\n"
          ]
        },
        {
          "output_type": "stream",
          "name": "stdout",
          "text": [
            "Collecting pattern3\n",
            "  Downloading pattern3-3.0.0.tar.gz (23.7 MB)\n",
            "\u001b[2K     \u001b[90m━━━━━━━━━━━━━━━━━━━━━━━━━━━━━━━━━━━━━━━━\u001b[0m \u001b[32m23.7/23.7 MB\u001b[0m \u001b[31m47.0 MB/s\u001b[0m eta \u001b[36m0:00:00\u001b[0m\n",
            "\u001b[?25h  Preparing metadata (setup.py) ... \u001b[?25l\u001b[?25hdone\n",
            "Requirement already satisfied: beautifulsoup4 in /usr/local/lib/python3.10/dist-packages (from pattern3) (4.12.3)\n",
            "Collecting cherrypy (from pattern3)\n",
            "  Downloading CherryPy-18.9.0-py3-none-any.whl (348 kB)\n",
            "\u001b[2K     \u001b[90m━━━━━━━━━━━━━━━━━━━━━━━━━━━━━━━━━━━━━━━━\u001b[0m \u001b[32m348.8/348.8 kB\u001b[0m \u001b[31m31.1 MB/s\u001b[0m eta \u001b[36m0:00:00\u001b[0m\n",
            "\u001b[?25hCollecting docx (from pattern3)\n",
            "  Downloading docx-0.2.4.tar.gz (54 kB)\n",
            "\u001b[2K     \u001b[90m━━━━━━━━━━━━━━━━━━━━━━━━━━━━━━━━━━━━━━━━\u001b[0m \u001b[32m54.9/54.9 kB\u001b[0m \u001b[31m6.4 MB/s\u001b[0m eta \u001b[36m0:00:00\u001b[0m\n",
            "\u001b[?25h  Preparing metadata (setup.py) ... \u001b[?25l\u001b[?25hdone\n",
            "Collecting feedparser (from pattern3)\n",
            "  Downloading feedparser-6.0.11-py3-none-any.whl (81 kB)\n",
            "\u001b[2K     \u001b[90m━━━━━━━━━━━━━━━━━━━━━━━━━━━━━━━━━━━━━━━━\u001b[0m \u001b[32m81.3/81.3 kB\u001b[0m \u001b[31m9.1 MB/s\u001b[0m eta \u001b[36m0:00:00\u001b[0m\n",
            "\u001b[?25hCollecting pdfminer3k (from pattern3)\n",
            "  Downloading pdfminer3k-1.3.4-py3-none-any.whl (100 kB)\n",
            "\u001b[2K     \u001b[90m━━━━━━━━━━━━━━━━━━━━━━━━━━━━━━━━━━━━━━━━\u001b[0m \u001b[32m100.8/100.8 kB\u001b[0m \u001b[31m11.3 MB/s\u001b[0m eta \u001b[36m0:00:00\u001b[0m\n",
            "\u001b[?25hCollecting simplejson (from pattern3)\n",
            "  Downloading simplejson-3.19.2-cp310-cp310-manylinux_2_5_x86_64.manylinux1_x86_64.manylinux_2_17_x86_64.manylinux2014_x86_64.whl (137 kB)\n",
            "\u001b[2K     \u001b[90m━━━━━━━━━━━━━━━━━━━━━━━━━━━━━━━━━━━━━━━━\u001b[0m \u001b[32m137.9/137.9 kB\u001b[0m \u001b[31m15.4 MB/s\u001b[0m eta \u001b[36m0:00:00\u001b[0m\n",
            "\u001b[?25hCollecting pdfminer.six (from pattern3)\n",
            "  Downloading pdfminer.six-20231228-py3-none-any.whl (5.6 MB)\n",
            "\u001b[2K     \u001b[90m━━━━━━━━━━━━━━━━━━━━━━━━━━━━━━━━━━━━━━━━\u001b[0m \u001b[32m5.6/5.6 MB\u001b[0m \u001b[31m81.3 MB/s\u001b[0m eta \u001b[36m0:00:00\u001b[0m\n",
            "\u001b[?25hRequirement already satisfied: soupsieve>1.2 in /usr/local/lib/python3.10/dist-packages (from beautifulsoup4->pattern3) (2.5)\n",
            "Collecting cheroot>=8.2.1 (from cherrypy->pattern3)\n",
            "  Downloading cheroot-10.0.1-py3-none-any.whl (104 kB)\n",
            "\u001b[2K     \u001b[90m━━━━━━━━━━━━━━━━━━━━━━━━━━━━━━━━━━━━━━━━\u001b[0m \u001b[32m104.8/104.8 kB\u001b[0m \u001b[31m11.2 MB/s\u001b[0m eta \u001b[36m0:00:00\u001b[0m\n",
            "\u001b[?25hCollecting portend>=2.1.1 (from cherrypy->pattern3)\n",
            "  Downloading portend-3.2.0-py3-none-any.whl (5.3 kB)\n",
            "Requirement already satisfied: more-itertools in /usr/local/lib/python3.10/dist-packages (from cherrypy->pattern3) (10.1.0)\n",
            "Collecting zc.lockfile (from cherrypy->pattern3)\n",
            "  Downloading zc.lockfile-3.0.post1-py3-none-any.whl (9.8 kB)\n",
            "Collecting jaraco.collections (from cherrypy->pattern3)\n",
            "  Downloading jaraco.collections-5.0.1-py3-none-any.whl (10 kB)\n",
            "Requirement already satisfied: lxml in /usr/local/lib/python3.10/dist-packages (from docx->pattern3) (4.9.4)\n",
            "Requirement already satisfied: Pillow>=2.0 in /usr/local/lib/python3.10/dist-packages (from docx->pattern3) (9.4.0)\n",
            "Collecting sgmllib3k (from feedparser->pattern3)\n",
            "  Downloading sgmllib3k-1.0.0.tar.gz (5.8 kB)\n",
            "  Preparing metadata (setup.py) ... \u001b[?25l\u001b[?25hdone\n",
            "Requirement already satisfied: charset-normalizer>=2.0.0 in /usr/local/lib/python3.10/dist-packages (from pdfminer.six->pattern3) (3.3.2)\n",
            "Requirement already satisfied: cryptography>=36.0.0 in /usr/local/lib/python3.10/dist-packages (from pdfminer.six->pattern3) (42.0.7)\n",
            "Requirement already satisfied: ply in /usr/local/lib/python3.10/dist-packages (from pdfminer3k->pattern3) (3.11)\n",
            "Collecting jaraco.functools (from cheroot>=8.2.1->cherrypy->pattern3)\n",
            "  Downloading jaraco.functools-4.0.1-py3-none-any.whl (9.8 kB)\n",
            "Requirement already satisfied: cffi>=1.12 in /usr/local/lib/python3.10/dist-packages (from cryptography>=36.0.0->pdfminer.six->pattern3) (1.16.0)\n",
            "Collecting tempora>=1.8 (from portend>=2.1.1->cherrypy->pattern3)\n",
            "  Downloading tempora-5.5.1-py3-none-any.whl (13 kB)\n",
            "Collecting jaraco.text (from jaraco.collections->cherrypy->pattern3)\n",
            "  Downloading jaraco.text-3.12.0-py3-none-any.whl (11 kB)\n",
            "Requirement already satisfied: setuptools in /usr/local/lib/python3.10/dist-packages (from zc.lockfile->cherrypy->pattern3) (67.7.2)\n",
            "Requirement already satisfied: pycparser in /usr/local/lib/python3.10/dist-packages (from cffi>=1.12->cryptography>=36.0.0->pdfminer.six->pattern3) (2.22)\n",
            "Requirement already satisfied: pytz in /usr/local/lib/python3.10/dist-packages (from tempora>=1.8->portend>=2.1.1->cherrypy->pattern3) (2023.4)\n",
            "Collecting jaraco.context>=4.1 (from jaraco.text->jaraco.collections->cherrypy->pattern3)\n",
            "  Downloading jaraco.context-5.3.0-py3-none-any.whl (6.5 kB)\n",
            "Collecting autocommand (from jaraco.text->jaraco.collections->cherrypy->pattern3)\n",
            "  Downloading autocommand-2.2.2-py3-none-any.whl (19 kB)\n",
            "Requirement already satisfied: inflect in /usr/local/lib/python3.10/dist-packages (from jaraco.text->jaraco.collections->cherrypy->pattern3) (7.0.0)\n",
            "Collecting backports.tarfile (from jaraco.context>=4.1->jaraco.text->jaraco.collections->cherrypy->pattern3)\n",
            "  Downloading backports.tarfile-1.2.0-py3-none-any.whl (30 kB)\n",
            "Requirement already satisfied: pydantic>=1.9.1 in /usr/local/lib/python3.10/dist-packages (from inflect->jaraco.text->jaraco.collections->cherrypy->pattern3) (2.7.3)\n",
            "Requirement already satisfied: typing-extensions in /usr/local/lib/python3.10/dist-packages (from inflect->jaraco.text->jaraco.collections->cherrypy->pattern3) (4.12.1)\n",
            "Requirement already satisfied: annotated-types>=0.4.0 in /usr/local/lib/python3.10/dist-packages (from pydantic>=1.9.1->inflect->jaraco.text->jaraco.collections->cherrypy->pattern3) (0.7.0)\n",
            "Requirement already satisfied: pydantic-core==2.18.4 in /usr/local/lib/python3.10/dist-packages (from pydantic>=1.9.1->inflect->jaraco.text->jaraco.collections->cherrypy->pattern3) (2.18.4)\n",
            "Building wheels for collected packages: pattern3, docx, sgmllib3k\n",
            "  Building wheel for pattern3 (setup.py) ... \u001b[?25l\u001b[?25hdone\n",
            "  Created wheel for pattern3: filename=pattern3-3.0.0-py2.py3-none-any.whl size=18554334 sha256=58aa4c6568ae87c7406303bbc7e5a40d8dde5bd7a357eb059096759e5dc3c2ef\n",
            "  Stored in directory: /root/.cache/pip/wheels/c2/e6/76/468d5343ebe1d64778175e1d6147a2ee1244c58090410f0c71\n",
            "  Building wheel for docx (setup.py) ... \u001b[?25l\u001b[?25hdone\n",
            "  Created wheel for docx: filename=docx-0.2.4-py3-none-any.whl size=53895 sha256=39447017dd3eeb4805444538bf67b69577e97280e486816695ce069fb731a83a\n",
            "  Stored in directory: /root/.cache/pip/wheels/81/f5/1d/e09ba2c1907a43a4146d1189ae4733ca1a3bfe27ee39507767\n",
            "  Building wheel for sgmllib3k (setup.py) ... \u001b[?25l\u001b[?25hdone\n",
            "  Created wheel for sgmllib3k: filename=sgmllib3k-1.0.0-py3-none-any.whl size=6049 sha256=7867b1aed74357d0fd8a27279889de5b6aa77ab8b50bb9759056e41505047bfc\n",
            "  Stored in directory: /root/.cache/pip/wheels/f0/69/93/a47e9d621be168e9e33c7ce60524393c0b92ae83cf6c6e89c5\n",
            "Successfully built pattern3 docx sgmllib3k\n",
            "Installing collected packages: sgmllib3k, zc.lockfile, simplejson, pdfminer3k, jaraco.functools, feedparser, docx, backports.tarfile, autocommand, tempora, jaraco.context, cheroot, portend, pdfminer.six, jaraco.text, jaraco.collections, cherrypy, pattern3\n",
            "Successfully installed autocommand-2.2.2 backports.tarfile-1.2.0 cheroot-10.0.1 cherrypy-18.9.0 docx-0.2.4 feedparser-6.0.11 jaraco.collections-5.0.1 jaraco.context-5.3.0 jaraco.functools-4.0.1 jaraco.text-3.12.0 pattern3-3.0.0 pdfminer.six-20231228 pdfminer3k-1.3.4 portend-3.2.0 sgmllib3k-1.0.0 simplejson-3.19.2 tempora-5.5.1 zc.lockfile-3.0.post1\n",
            "Collecting pyLDAvis\n",
            "  Downloading pyLDAvis-3.4.1-py3-none-any.whl (2.6 MB)\n",
            "\u001b[2K     \u001b[90m━━━━━━━━━━━━━━━━━━━━━━━━━━━━━━━━━━━━━━━━\u001b[0m \u001b[32m2.6/2.6 MB\u001b[0m \u001b[31m4.9 MB/s\u001b[0m eta \u001b[36m0:00:00\u001b[0m\n",
            "\u001b[?25hRequirement already satisfied: numpy>=1.24.2 in /usr/local/lib/python3.10/dist-packages (from pyLDAvis) (1.25.2)\n",
            "Requirement already satisfied: scipy in /usr/local/lib/python3.10/dist-packages (from pyLDAvis) (1.11.4)\n",
            "Requirement already satisfied: pandas>=2.0.0 in /usr/local/lib/python3.10/dist-packages (from pyLDAvis) (2.0.3)\n",
            "Requirement already satisfied: joblib>=1.2.0 in /usr/local/lib/python3.10/dist-packages (from pyLDAvis) (1.4.2)\n",
            "Requirement already satisfied: jinja2 in /usr/local/lib/python3.10/dist-packages (from pyLDAvis) (3.1.4)\n",
            "Requirement already satisfied: numexpr in /usr/local/lib/python3.10/dist-packages (from pyLDAvis) (2.10.0)\n",
            "Collecting funcy (from pyLDAvis)\n",
            "  Downloading funcy-2.0-py2.py3-none-any.whl (30 kB)\n",
            "Requirement already satisfied: scikit-learn>=1.0.0 in /usr/local/lib/python3.10/dist-packages (from pyLDAvis) (1.2.2)\n",
            "Requirement already satisfied: gensim in /usr/local/lib/python3.10/dist-packages (from pyLDAvis) (4.3.2)\n",
            "Requirement already satisfied: setuptools in /usr/local/lib/python3.10/dist-packages (from pyLDAvis) (67.7.2)\n",
            "Requirement already satisfied: python-dateutil>=2.8.2 in /usr/local/lib/python3.10/dist-packages (from pandas>=2.0.0->pyLDAvis) (2.8.2)\n",
            "Requirement already satisfied: pytz>=2020.1 in /usr/local/lib/python3.10/dist-packages (from pandas>=2.0.0->pyLDAvis) (2023.4)\n",
            "Requirement already satisfied: tzdata>=2022.1 in /usr/local/lib/python3.10/dist-packages (from pandas>=2.0.0->pyLDAvis) (2024.1)\n",
            "Requirement already satisfied: threadpoolctl>=2.0.0 in /usr/local/lib/python3.10/dist-packages (from scikit-learn>=1.0.0->pyLDAvis) (3.5.0)\n",
            "Requirement already satisfied: smart-open>=1.8.1 in /usr/local/lib/python3.10/dist-packages (from gensim->pyLDAvis) (6.4.0)\n",
            "Requirement already satisfied: MarkupSafe>=2.0 in /usr/local/lib/python3.10/dist-packages (from jinja2->pyLDAvis) (2.1.5)\n",
            "Requirement already satisfied: six>=1.5 in /usr/local/lib/python3.10/dist-packages (from python-dateutil>=2.8.2->pandas>=2.0.0->pyLDAvis) (1.16.0)\n",
            "Installing collected packages: funcy, pyLDAvis\n",
            "Successfully installed funcy-2.0 pyLDAvis-3.4.1\n"
          ]
        },
        {
          "output_type": "stream",
          "name": "stderr",
          "text": [
            "[nltk_data] Downloading package stopwords to /root/nltk_data...\n",
            "[nltk_data]   Unzipping corpora/stopwords.zip.\n",
            "[nltk_data] Downloading package punkt to /root/nltk_data...\n",
            "[nltk_data]   Unzipping tokenizers/punkt.zip.\n"
          ]
        },
        {
          "output_type": "stream",
          "name": "stdout",
          "text": [
            "Original:   <p>The circus dog in a plissé skirt jumped over Python who wasn't that large, just 3 feet long.</p>\n",
            "Processed:  ['<', 'p', '>', 'The', 'circus', 'dog', 'in', 'a', 'plissé', 'skirt', 'jumped', 'over', 'Python', 'who', 'was', \"n't\", 'that', 'large', ',', 'just', '3', 'feet', 'long.', '<', '/p', '>']\n",
            "Original:   <p>The circus dog in a plissé skirt jumped over Python who wasn't that large, just 3 feet long.</p>\n",
            "Processed:  <p>The circus dog in a plissé skirt jumped over Python who was not that large, just 3 feet long.</p>\n"
          ]
        },
        {
          "output_type": "stream",
          "name": "stderr",
          "text": [
            "[nltk_data] Downloading package averaged_perceptron_tagger to\n",
            "[nltk_data]     /root/nltk_data...\n",
            "[nltk_data]   Unzipping taggers/averaged_perceptron_tagger.zip.\n",
            "[nltk_data] Downloading package wordnet to /root/nltk_data...\n"
          ]
        },
        {
          "output_type": "stream",
          "name": "stdout",
          "text": [
            "Original:   <p>The circus dog in a plissé skirt jumped over Python who wasn't that large, just 3 feet long.</p>\n",
            "Processed:  [('<', 'a'), ('p', 'n'), ('>', 'v'), ('the', None), ('circus', 'n'), ('dog', 'n'), ('in', None), ('a', None), ('plissé', 'n'), ('skirt', 'n'), ('jumped', 'v'), ('over', None), ('python', 'n'), ('who', None), ('was', 'v'), (\"n't\", 'r'), ('that', None), ('large', 'a'), (',', None), ('just', 'r'), ('3', None), ('feet', 'n'), ('long.', 'a'), ('<', 'n'), ('/p', 'n'), ('>', 'n')]\n",
            "Original:   <p>The circus dog in a plissé skirt jumped over Python who wasn't that large, just 3 feet long.</p>\n",
            "Processed:  < p > the circus dog in a plissé skirt jump over python who be n't that large , just 3 foot long. < /p >\n",
            "Original:   <p>The circus dog in a plissé skirt jumped over Python who wasn't that large, just 3 feet long.</p>\n",
            "Processed:    p   The circus dog in a plissé skirt jumped over Python who was n t that large   just 3 feet long     p  \n",
            "Original:   <p>The circus dog in a plissé skirt jumped over Python who wasn't that large, just 3 feet long.</p>\n",
            "Processed:  < p > The circus dog plissé skirt jumped Python n't large , 3 feet long. < /p >\n",
            "Original:   <p>The circus dog in a plissé skirt jumped over Python who wasn't that large, just 3 feet long.</p>\n",
            "Processed:  p The circus dog in a plissé skirt jumped over Python who was n't that large just feet long. /p\n",
            "Original:   <p>The circus dog in a plissé skirt jumped over Python who wasn't that large, just 3 feet long.</p>\n",
            "Processed:  The circus dog in a plissé skirt jumped over Python who wasn't that large, just 3 feet long.\n",
            "Original:   <p>The circus dog in a plissé skirt jumped over Python who wasn't that large, just 3 feet long.</p>\n",
            "Processed:  <p>The circus dog in a plisse skirt jumped over Python who wasn't that large, just 3 feet long.</p>\n"
          ]
        }
      ],
      "source": [
        "import warnings\n",
        "warnings.simplefilter(action='ignore', category=FutureWarning)\n",
        "warnings.filterwarnings(\"ignore\", category=DeprecationWarning)\n",
        "\n",
        "#the module 'sys' allows istalling module from inside Jupyter\n",
        "import sys\n",
        "\n",
        "!{sys.executable} -m pip install numpy\n",
        "import numpy as np\n",
        "\n",
        "!{sys.executable} -m pip install pandas\n",
        "import pandas as pd\n",
        "\n",
        "#Natrual Language ToolKit (NLTK)\n",
        "!{sys.executable} -m pip install nltk\n",
        "import nltk\n",
        "\n",
        "#text normalization function\n",
        "%run ./Text_Normalization_Function.ipynb\n",
        "\n",
        "#ignore warnings about future changes in functions as they take too much space\n",
        "warnings.simplefilter(action='ignore', category=FutureWarning)\n",
        "warnings.filterwarnings(\"ignore\", category=DeprecationWarning)"
      ]
    },
    {
      "cell_type": "code",
      "source": [
        "path = ''\n",
        "DayOne_Reviews = pd.read_excel( \"Day One Journal Private Diary_Reviews.xlsx\" )\n",
        "\n",
        "duplicates = DayOne_Reviews.duplicated(subset=['Comments'])\n",
        "\n",
        "DayOne_Reviews = DayOne_Reviews.drop_duplicates(subset=['Comments'])\n",
        "DayOne_Reviews.head()"
      ],
      "metadata": {
        "colab": {
          "base_uri": "https://localhost:8080/",
          "height": 206
        },
        "id": "8WBBKcZgu_B3",
        "outputId": "86ab30ea-dc38-46b3-d399-286916193b50"
      },
      "execution_count": 72,
      "outputs": [
        {
          "output_type": "execute_result",
          "data": {
            "text/plain": [
              "              Name       UserID                       Date  Ratings  \\\n",
              "0      dglindsey23  11359417633  2024-06-08T17:10:33-07:00        3   \n",
              "1       latingurrl  11359138836  2024-06-08T15:07:06-07:00        3   \n",
              "2            KFly1  11358603904  2024-06-08T11:37:48-07:00        1   \n",
              "3  MMEEEEEEEEEEEEE  11355305016  2024-06-07T15:08:11-07:00        1   \n",
              "4            liiz7  11355104509  2024-06-07T13:46:16-07:00        5   \n",
              "\n",
              "                                            Comments  \n",
              "0  I will start off by saying this is the best jo...  \n",
              "1  For information on the entries, it keeps sayin...  \n",
              "2  Dear Day One, I have been a loyal customer for...  \n",
              "3  Unable to open my app; froze in middle of last...  \n",
              "4  I don’t like how they took away the underline ...  "
            ],
            "text/html": [
              "\n",
              "  <div id=\"df-8a01e980-2800-4fcd-9a41-1111970d94eb\" class=\"colab-df-container\">\n",
              "    <div>\n",
              "<style scoped>\n",
              "    .dataframe tbody tr th:only-of-type {\n",
              "        vertical-align: middle;\n",
              "    }\n",
              "\n",
              "    .dataframe tbody tr th {\n",
              "        vertical-align: top;\n",
              "    }\n",
              "\n",
              "    .dataframe thead th {\n",
              "        text-align: right;\n",
              "    }\n",
              "</style>\n",
              "<table border=\"1\" class=\"dataframe\">\n",
              "  <thead>\n",
              "    <tr style=\"text-align: right;\">\n",
              "      <th></th>\n",
              "      <th>Name</th>\n",
              "      <th>UserID</th>\n",
              "      <th>Date</th>\n",
              "      <th>Ratings</th>\n",
              "      <th>Comments</th>\n",
              "    </tr>\n",
              "  </thead>\n",
              "  <tbody>\n",
              "    <tr>\n",
              "      <th>0</th>\n",
              "      <td>dglindsey23</td>\n",
              "      <td>11359417633</td>\n",
              "      <td>2024-06-08T17:10:33-07:00</td>\n",
              "      <td>3</td>\n",
              "      <td>I will start off by saying this is the best jo...</td>\n",
              "    </tr>\n",
              "    <tr>\n",
              "      <th>1</th>\n",
              "      <td>latingurrl</td>\n",
              "      <td>11359138836</td>\n",
              "      <td>2024-06-08T15:07:06-07:00</td>\n",
              "      <td>3</td>\n",
              "      <td>For information on the entries, it keeps sayin...</td>\n",
              "    </tr>\n",
              "    <tr>\n",
              "      <th>2</th>\n",
              "      <td>KFly1</td>\n",
              "      <td>11358603904</td>\n",
              "      <td>2024-06-08T11:37:48-07:00</td>\n",
              "      <td>1</td>\n",
              "      <td>Dear Day One, I have been a loyal customer for...</td>\n",
              "    </tr>\n",
              "    <tr>\n",
              "      <th>3</th>\n",
              "      <td>MMEEEEEEEEEEEEE</td>\n",
              "      <td>11355305016</td>\n",
              "      <td>2024-06-07T15:08:11-07:00</td>\n",
              "      <td>1</td>\n",
              "      <td>Unable to open my app; froze in middle of last...</td>\n",
              "    </tr>\n",
              "    <tr>\n",
              "      <th>4</th>\n",
              "      <td>liiz7</td>\n",
              "      <td>11355104509</td>\n",
              "      <td>2024-06-07T13:46:16-07:00</td>\n",
              "      <td>5</td>\n",
              "      <td>I don’t like how they took away the underline ...</td>\n",
              "    </tr>\n",
              "  </tbody>\n",
              "</table>\n",
              "</div>\n",
              "    <div class=\"colab-df-buttons\">\n",
              "\n",
              "  <div class=\"colab-df-container\">\n",
              "    <button class=\"colab-df-convert\" onclick=\"convertToInteractive('df-8a01e980-2800-4fcd-9a41-1111970d94eb')\"\n",
              "            title=\"Convert this dataframe to an interactive table.\"\n",
              "            style=\"display:none;\">\n",
              "\n",
              "  <svg xmlns=\"http://www.w3.org/2000/svg\" height=\"24px\" viewBox=\"0 -960 960 960\">\n",
              "    <path d=\"M120-120v-720h720v720H120Zm60-500h600v-160H180v160Zm220 220h160v-160H400v160Zm0 220h160v-160H400v160ZM180-400h160v-160H180v160Zm440 0h160v-160H620v160ZM180-180h160v-160H180v160Zm440 0h160v-160H620v160Z\"/>\n",
              "  </svg>\n",
              "    </button>\n",
              "\n",
              "  <style>\n",
              "    .colab-df-container {\n",
              "      display:flex;\n",
              "      gap: 12px;\n",
              "    }\n",
              "\n",
              "    .colab-df-convert {\n",
              "      background-color: #E8F0FE;\n",
              "      border: none;\n",
              "      border-radius: 50%;\n",
              "      cursor: pointer;\n",
              "      display: none;\n",
              "      fill: #1967D2;\n",
              "      height: 32px;\n",
              "      padding: 0 0 0 0;\n",
              "      width: 32px;\n",
              "    }\n",
              "\n",
              "    .colab-df-convert:hover {\n",
              "      background-color: #E2EBFA;\n",
              "      box-shadow: 0px 1px 2px rgba(60, 64, 67, 0.3), 0px 1px 3px 1px rgba(60, 64, 67, 0.15);\n",
              "      fill: #174EA6;\n",
              "    }\n",
              "\n",
              "    .colab-df-buttons div {\n",
              "      margin-bottom: 4px;\n",
              "    }\n",
              "\n",
              "    [theme=dark] .colab-df-convert {\n",
              "      background-color: #3B4455;\n",
              "      fill: #D2E3FC;\n",
              "    }\n",
              "\n",
              "    [theme=dark] .colab-df-convert:hover {\n",
              "      background-color: #434B5C;\n",
              "      box-shadow: 0px 1px 3px 1px rgba(0, 0, 0, 0.15);\n",
              "      filter: drop-shadow(0px 1px 2px rgba(0, 0, 0, 0.3));\n",
              "      fill: #FFFFFF;\n",
              "    }\n",
              "  </style>\n",
              "\n",
              "    <script>\n",
              "      const buttonEl =\n",
              "        document.querySelector('#df-8a01e980-2800-4fcd-9a41-1111970d94eb button.colab-df-convert');\n",
              "      buttonEl.style.display =\n",
              "        google.colab.kernel.accessAllowed ? 'block' : 'none';\n",
              "\n",
              "      async function convertToInteractive(key) {\n",
              "        const element = document.querySelector('#df-8a01e980-2800-4fcd-9a41-1111970d94eb');\n",
              "        const dataTable =\n",
              "          await google.colab.kernel.invokeFunction('convertToInteractive',\n",
              "                                                    [key], {});\n",
              "        if (!dataTable) return;\n",
              "\n",
              "        const docLinkHtml = 'Like what you see? Visit the ' +\n",
              "          '<a target=\"_blank\" href=https://colab.research.google.com/notebooks/data_table.ipynb>data table notebook</a>'\n",
              "          + ' to learn more about interactive tables.';\n",
              "        element.innerHTML = '';\n",
              "        dataTable['output_type'] = 'display_data';\n",
              "        await google.colab.output.renderOutput(dataTable, element);\n",
              "        const docLink = document.createElement('div');\n",
              "        docLink.innerHTML = docLinkHtml;\n",
              "        element.appendChild(docLink);\n",
              "      }\n",
              "    </script>\n",
              "  </div>\n",
              "\n",
              "\n",
              "<div id=\"df-0cf8fe82-327c-4476-89a7-1e3752ed9c16\">\n",
              "  <button class=\"colab-df-quickchart\" onclick=\"quickchart('df-0cf8fe82-327c-4476-89a7-1e3752ed9c16')\"\n",
              "            title=\"Suggest charts\"\n",
              "            style=\"display:none;\">\n",
              "\n",
              "<svg xmlns=\"http://www.w3.org/2000/svg\" height=\"24px\"viewBox=\"0 0 24 24\"\n",
              "     width=\"24px\">\n",
              "    <g>\n",
              "        <path d=\"M19 3H5c-1.1 0-2 .9-2 2v14c0 1.1.9 2 2 2h14c1.1 0 2-.9 2-2V5c0-1.1-.9-2-2-2zM9 17H7v-7h2v7zm4 0h-2V7h2v10zm4 0h-2v-4h2v4z\"/>\n",
              "    </g>\n",
              "</svg>\n",
              "  </button>\n",
              "\n",
              "<style>\n",
              "  .colab-df-quickchart {\n",
              "      --bg-color: #E8F0FE;\n",
              "      --fill-color: #1967D2;\n",
              "      --hover-bg-color: #E2EBFA;\n",
              "      --hover-fill-color: #174EA6;\n",
              "      --disabled-fill-color: #AAA;\n",
              "      --disabled-bg-color: #DDD;\n",
              "  }\n",
              "\n",
              "  [theme=dark] .colab-df-quickchart {\n",
              "      --bg-color: #3B4455;\n",
              "      --fill-color: #D2E3FC;\n",
              "      --hover-bg-color: #434B5C;\n",
              "      --hover-fill-color: #FFFFFF;\n",
              "      --disabled-bg-color: #3B4455;\n",
              "      --disabled-fill-color: #666;\n",
              "  }\n",
              "\n",
              "  .colab-df-quickchart {\n",
              "    background-color: var(--bg-color);\n",
              "    border: none;\n",
              "    border-radius: 50%;\n",
              "    cursor: pointer;\n",
              "    display: none;\n",
              "    fill: var(--fill-color);\n",
              "    height: 32px;\n",
              "    padding: 0;\n",
              "    width: 32px;\n",
              "  }\n",
              "\n",
              "  .colab-df-quickchart:hover {\n",
              "    background-color: var(--hover-bg-color);\n",
              "    box-shadow: 0 1px 2px rgba(60, 64, 67, 0.3), 0 1px 3px 1px rgba(60, 64, 67, 0.15);\n",
              "    fill: var(--button-hover-fill-color);\n",
              "  }\n",
              "\n",
              "  .colab-df-quickchart-complete:disabled,\n",
              "  .colab-df-quickchart-complete:disabled:hover {\n",
              "    background-color: var(--disabled-bg-color);\n",
              "    fill: var(--disabled-fill-color);\n",
              "    box-shadow: none;\n",
              "  }\n",
              "\n",
              "  .colab-df-spinner {\n",
              "    border: 2px solid var(--fill-color);\n",
              "    border-color: transparent;\n",
              "    border-bottom-color: var(--fill-color);\n",
              "    animation:\n",
              "      spin 1s steps(1) infinite;\n",
              "  }\n",
              "\n",
              "  @keyframes spin {\n",
              "    0% {\n",
              "      border-color: transparent;\n",
              "      border-bottom-color: var(--fill-color);\n",
              "      border-left-color: var(--fill-color);\n",
              "    }\n",
              "    20% {\n",
              "      border-color: transparent;\n",
              "      border-left-color: var(--fill-color);\n",
              "      border-top-color: var(--fill-color);\n",
              "    }\n",
              "    30% {\n",
              "      border-color: transparent;\n",
              "      border-left-color: var(--fill-color);\n",
              "      border-top-color: var(--fill-color);\n",
              "      border-right-color: var(--fill-color);\n",
              "    }\n",
              "    40% {\n",
              "      border-color: transparent;\n",
              "      border-right-color: var(--fill-color);\n",
              "      border-top-color: var(--fill-color);\n",
              "    }\n",
              "    60% {\n",
              "      border-color: transparent;\n",
              "      border-right-color: var(--fill-color);\n",
              "    }\n",
              "    80% {\n",
              "      border-color: transparent;\n",
              "      border-right-color: var(--fill-color);\n",
              "      border-bottom-color: var(--fill-color);\n",
              "    }\n",
              "    90% {\n",
              "      border-color: transparent;\n",
              "      border-bottom-color: var(--fill-color);\n",
              "    }\n",
              "  }\n",
              "</style>\n",
              "\n",
              "  <script>\n",
              "    async function quickchart(key) {\n",
              "      const quickchartButtonEl =\n",
              "        document.querySelector('#' + key + ' button');\n",
              "      quickchartButtonEl.disabled = true;  // To prevent multiple clicks.\n",
              "      quickchartButtonEl.classList.add('colab-df-spinner');\n",
              "      try {\n",
              "        const charts = await google.colab.kernel.invokeFunction(\n",
              "            'suggestCharts', [key], {});\n",
              "      } catch (error) {\n",
              "        console.error('Error during call to suggestCharts:', error);\n",
              "      }\n",
              "      quickchartButtonEl.classList.remove('colab-df-spinner');\n",
              "      quickchartButtonEl.classList.add('colab-df-quickchart-complete');\n",
              "    }\n",
              "    (() => {\n",
              "      let quickchartButtonEl =\n",
              "        document.querySelector('#df-0cf8fe82-327c-4476-89a7-1e3752ed9c16 button');\n",
              "      quickchartButtonEl.style.display =\n",
              "        google.colab.kernel.accessAllowed ? 'block' : 'none';\n",
              "    })();\n",
              "  </script>\n",
              "</div>\n",
              "\n",
              "    </div>\n",
              "  </div>\n"
            ],
            "application/vnd.google.colaboratory.intrinsic+json": {
              "type": "dataframe",
              "variable_name": "DayOne_Reviews",
              "summary": "{\n  \"name\": \"DayOne_Reviews\",\n  \"rows\": 500,\n  \"fields\": [\n    {\n      \"column\": \"Name\",\n      \"properties\": {\n        \"dtype\": \"string\",\n        \"num_unique_values\": 500,\n        \"samples\": [\n          \"oceanographer(not realy)\",\n          \"GameChangerFanAndrew\",\n          \"LNW LLC\"\n        ],\n        \"semantic_type\": \"\",\n        \"description\": \"\"\n      }\n    },\n    {\n      \"column\": \"UserID\",\n      \"properties\": {\n        \"dtype\": \"number\",\n        \"std\": 305599831,\n        \"min\": 10348379115,\n        \"max\": 11359417633,\n        \"num_unique_values\": 500,\n        \"samples\": [\n          10611322829,\n          11243446024,\n          10590226494\n        ],\n        \"semantic_type\": \"\",\n        \"description\": \"\"\n      }\n    },\n    {\n      \"column\": \"Date\",\n      \"properties\": {\n        \"dtype\": \"object\",\n        \"num_unique_values\": 500,\n        \"samples\": [\n          \"2023-11-21T20:57:17-07:00\",\n          \"2024-05-07T17:09:36-07:00\",\n          \"2023-11-15T20:07:53-07:00\"\n        ],\n        \"semantic_type\": \"\",\n        \"description\": \"\"\n      }\n    },\n    {\n      \"column\": \"Ratings\",\n      \"properties\": {\n        \"dtype\": \"number\",\n        \"std\": 1,\n        \"min\": 1,\n        \"max\": 5,\n        \"num_unique_values\": 5,\n        \"samples\": [\n          1,\n          2,\n          5\n        ],\n        \"semantic_type\": \"\",\n        \"description\": \"\"\n      }\n    },\n    {\n      \"column\": \"Comments\",\n      \"properties\": {\n        \"dtype\": \"string\",\n        \"num_unique_values\": 500,\n        \"samples\": [\n          \"This app is absolutely amazing. Super well done! It helps me organize my crazy life and helps me easily find the dates and context of previous memories through tags and search. I've used it for about 4 years now, if I'm recalling correctly, and I've loved it.\\nI especially love the ability to add photos, tags, and audio. Totally worth the buy.\",\n          \"I haven\\u2019t used this app for long, but I like it so far. Only complaints are not being able to underlined writing and if you accidentally click the Bitmoji\\u2019s icon (if you have the app) while writing it completely breaks the app, and you need to force restart the device because simply closing and swiping out of the app won\\u2019t reset it into working again\",\n          \"I was a fan of journaling on paper for years and just wanted to experiment with something different. 2 years later and this has elevated the way in which I'm able to record the events and moments of my life. It even allowed me to complete some projects collecting audio messages from family members to keep in memory of them forever. Love this app\"\n        ],\n        \"semantic_type\": \"\",\n        \"description\": \"\"\n      }\n    }\n  ]\n}"
            }
          },
          "metadata": {},
          "execution_count": 72
        }
      ]
    },
    {
      "cell_type": "markdown",
      "source": [
        "##Text Normalization"
      ],
      "metadata": {
        "id": "Dmfr_b91zoUY"
      }
    },
    {
      "cell_type": "code",
      "source": [
        "normalized_reviews = normalize_corpus(DayOne_Reviews['Comments'].fillna(''))"
      ],
      "metadata": {
        "id": "p7Jp9PSZxTYS"
      },
      "execution_count": 73,
      "outputs": []
    },
    {
      "cell_type": "code",
      "source": [
        "DayOne_Reviews['Normalized_Comments'] = normalized_reviews"
      ],
      "metadata": {
        "id": "jLi7-1JV2J_x"
      },
      "execution_count": 74,
      "outputs": []
    },
    {
      "cell_type": "code",
      "source": [
        "DayOne_Reviews.head()"
      ],
      "metadata": {
        "colab": {
          "base_uri": "https://localhost:8080/",
          "height": 206
        },
        "id": "zm2I1TcO3Xsh",
        "outputId": "2cea365f-5a53-4dc5-f01e-b1c0722fdf4c"
      },
      "execution_count": 75,
      "outputs": [
        {
          "output_type": "execute_result",
          "data": {
            "text/plain": [
              "              Name       UserID                       Date  Ratings  \\\n",
              "0      dglindsey23  11359417633  2024-06-08T17:10:33-07:00        3   \n",
              "1       latingurrl  11359138836  2024-06-08T15:07:06-07:00        3   \n",
              "2            KFly1  11358603904  2024-06-08T11:37:48-07:00        1   \n",
              "3  MMEEEEEEEEEEEEE  11355305016  2024-06-07T15:08:11-07:00        1   \n",
              "4            liiz7  11355104509  2024-06-07T13:46:16-07:00        5   \n",
              "\n",
              "                                            Comments  \\\n",
              "0  I will start off by saying this is the best jo...   \n",
              "1  For information on the entries, it keeps sayin...   \n",
              "2  Dear Day One, I have been a loyal customer for...   \n",
              "3  Unable to open my app; froze in middle of last...   \n",
              "4  I don’t like how they took away the underline ...   \n",
              "\n",
              "                                 Normalized_Comments  \n",
              "0  start best journaling even pure write app writ...  \n",
              "1  information entry keep capture track informati...  \n",
              "2  dear day loyal customer year favorite app enti...  \n",
              "3  unable open app freeze middle last update dele...  \n",
              "4  dont like take away underline use lot maybe im...  "
            ],
            "text/html": [
              "\n",
              "  <div id=\"df-79cb0fbf-7364-4917-a4b8-e0afb78dc243\" class=\"colab-df-container\">\n",
              "    <div>\n",
              "<style scoped>\n",
              "    .dataframe tbody tr th:only-of-type {\n",
              "        vertical-align: middle;\n",
              "    }\n",
              "\n",
              "    .dataframe tbody tr th {\n",
              "        vertical-align: top;\n",
              "    }\n",
              "\n",
              "    .dataframe thead th {\n",
              "        text-align: right;\n",
              "    }\n",
              "</style>\n",
              "<table border=\"1\" class=\"dataframe\">\n",
              "  <thead>\n",
              "    <tr style=\"text-align: right;\">\n",
              "      <th></th>\n",
              "      <th>Name</th>\n",
              "      <th>UserID</th>\n",
              "      <th>Date</th>\n",
              "      <th>Ratings</th>\n",
              "      <th>Comments</th>\n",
              "      <th>Normalized_Comments</th>\n",
              "    </tr>\n",
              "  </thead>\n",
              "  <tbody>\n",
              "    <tr>\n",
              "      <th>0</th>\n",
              "      <td>dglindsey23</td>\n",
              "      <td>11359417633</td>\n",
              "      <td>2024-06-08T17:10:33-07:00</td>\n",
              "      <td>3</td>\n",
              "      <td>I will start off by saying this is the best jo...</td>\n",
              "      <td>start best journaling even pure write app writ...</td>\n",
              "    </tr>\n",
              "    <tr>\n",
              "      <th>1</th>\n",
              "      <td>latingurrl</td>\n",
              "      <td>11359138836</td>\n",
              "      <td>2024-06-08T15:07:06-07:00</td>\n",
              "      <td>3</td>\n",
              "      <td>For information on the entries, it keeps sayin...</td>\n",
              "      <td>information entry keep capture track informati...</td>\n",
              "    </tr>\n",
              "    <tr>\n",
              "      <th>2</th>\n",
              "      <td>KFly1</td>\n",
              "      <td>11358603904</td>\n",
              "      <td>2024-06-08T11:37:48-07:00</td>\n",
              "      <td>1</td>\n",
              "      <td>Dear Day One, I have been a loyal customer for...</td>\n",
              "      <td>dear day loyal customer year favorite app enti...</td>\n",
              "    </tr>\n",
              "    <tr>\n",
              "      <th>3</th>\n",
              "      <td>MMEEEEEEEEEEEEE</td>\n",
              "      <td>11355305016</td>\n",
              "      <td>2024-06-07T15:08:11-07:00</td>\n",
              "      <td>1</td>\n",
              "      <td>Unable to open my app; froze in middle of last...</td>\n",
              "      <td>unable open app freeze middle last update dele...</td>\n",
              "    </tr>\n",
              "    <tr>\n",
              "      <th>4</th>\n",
              "      <td>liiz7</td>\n",
              "      <td>11355104509</td>\n",
              "      <td>2024-06-07T13:46:16-07:00</td>\n",
              "      <td>5</td>\n",
              "      <td>I don’t like how they took away the underline ...</td>\n",
              "      <td>dont like take away underline use lot maybe im...</td>\n",
              "    </tr>\n",
              "  </tbody>\n",
              "</table>\n",
              "</div>\n",
              "    <div class=\"colab-df-buttons\">\n",
              "\n",
              "  <div class=\"colab-df-container\">\n",
              "    <button class=\"colab-df-convert\" onclick=\"convertToInteractive('df-79cb0fbf-7364-4917-a4b8-e0afb78dc243')\"\n",
              "            title=\"Convert this dataframe to an interactive table.\"\n",
              "            style=\"display:none;\">\n",
              "\n",
              "  <svg xmlns=\"http://www.w3.org/2000/svg\" height=\"24px\" viewBox=\"0 -960 960 960\">\n",
              "    <path d=\"M120-120v-720h720v720H120Zm60-500h600v-160H180v160Zm220 220h160v-160H400v160Zm0 220h160v-160H400v160ZM180-400h160v-160H180v160Zm440 0h160v-160H620v160ZM180-180h160v-160H180v160Zm440 0h160v-160H620v160Z\"/>\n",
              "  </svg>\n",
              "    </button>\n",
              "\n",
              "  <style>\n",
              "    .colab-df-container {\n",
              "      display:flex;\n",
              "      gap: 12px;\n",
              "    }\n",
              "\n",
              "    .colab-df-convert {\n",
              "      background-color: #E8F0FE;\n",
              "      border: none;\n",
              "      border-radius: 50%;\n",
              "      cursor: pointer;\n",
              "      display: none;\n",
              "      fill: #1967D2;\n",
              "      height: 32px;\n",
              "      padding: 0 0 0 0;\n",
              "      width: 32px;\n",
              "    }\n",
              "\n",
              "    .colab-df-convert:hover {\n",
              "      background-color: #E2EBFA;\n",
              "      box-shadow: 0px 1px 2px rgba(60, 64, 67, 0.3), 0px 1px 3px 1px rgba(60, 64, 67, 0.15);\n",
              "      fill: #174EA6;\n",
              "    }\n",
              "\n",
              "    .colab-df-buttons div {\n",
              "      margin-bottom: 4px;\n",
              "    }\n",
              "\n",
              "    [theme=dark] .colab-df-convert {\n",
              "      background-color: #3B4455;\n",
              "      fill: #D2E3FC;\n",
              "    }\n",
              "\n",
              "    [theme=dark] .colab-df-convert:hover {\n",
              "      background-color: #434B5C;\n",
              "      box-shadow: 0px 1px 3px 1px rgba(0, 0, 0, 0.15);\n",
              "      filter: drop-shadow(0px 1px 2px rgba(0, 0, 0, 0.3));\n",
              "      fill: #FFFFFF;\n",
              "    }\n",
              "  </style>\n",
              "\n",
              "    <script>\n",
              "      const buttonEl =\n",
              "        document.querySelector('#df-79cb0fbf-7364-4917-a4b8-e0afb78dc243 button.colab-df-convert');\n",
              "      buttonEl.style.display =\n",
              "        google.colab.kernel.accessAllowed ? 'block' : 'none';\n",
              "\n",
              "      async function convertToInteractive(key) {\n",
              "        const element = document.querySelector('#df-79cb0fbf-7364-4917-a4b8-e0afb78dc243');\n",
              "        const dataTable =\n",
              "          await google.colab.kernel.invokeFunction('convertToInteractive',\n",
              "                                                    [key], {});\n",
              "        if (!dataTable) return;\n",
              "\n",
              "        const docLinkHtml = 'Like what you see? Visit the ' +\n",
              "          '<a target=\"_blank\" href=https://colab.research.google.com/notebooks/data_table.ipynb>data table notebook</a>'\n",
              "          + ' to learn more about interactive tables.';\n",
              "        element.innerHTML = '';\n",
              "        dataTable['output_type'] = 'display_data';\n",
              "        await google.colab.output.renderOutput(dataTable, element);\n",
              "        const docLink = document.createElement('div');\n",
              "        docLink.innerHTML = docLinkHtml;\n",
              "        element.appendChild(docLink);\n",
              "      }\n",
              "    </script>\n",
              "  </div>\n",
              "\n",
              "\n",
              "<div id=\"df-03df5ab8-c435-4e92-a755-13e8c620b1f3\">\n",
              "  <button class=\"colab-df-quickchart\" onclick=\"quickchart('df-03df5ab8-c435-4e92-a755-13e8c620b1f3')\"\n",
              "            title=\"Suggest charts\"\n",
              "            style=\"display:none;\">\n",
              "\n",
              "<svg xmlns=\"http://www.w3.org/2000/svg\" height=\"24px\"viewBox=\"0 0 24 24\"\n",
              "     width=\"24px\">\n",
              "    <g>\n",
              "        <path d=\"M19 3H5c-1.1 0-2 .9-2 2v14c0 1.1.9 2 2 2h14c1.1 0 2-.9 2-2V5c0-1.1-.9-2-2-2zM9 17H7v-7h2v7zm4 0h-2V7h2v10zm4 0h-2v-4h2v4z\"/>\n",
              "    </g>\n",
              "</svg>\n",
              "  </button>\n",
              "\n",
              "<style>\n",
              "  .colab-df-quickchart {\n",
              "      --bg-color: #E8F0FE;\n",
              "      --fill-color: #1967D2;\n",
              "      --hover-bg-color: #E2EBFA;\n",
              "      --hover-fill-color: #174EA6;\n",
              "      --disabled-fill-color: #AAA;\n",
              "      --disabled-bg-color: #DDD;\n",
              "  }\n",
              "\n",
              "  [theme=dark] .colab-df-quickchart {\n",
              "      --bg-color: #3B4455;\n",
              "      --fill-color: #D2E3FC;\n",
              "      --hover-bg-color: #434B5C;\n",
              "      --hover-fill-color: #FFFFFF;\n",
              "      --disabled-bg-color: #3B4455;\n",
              "      --disabled-fill-color: #666;\n",
              "  }\n",
              "\n",
              "  .colab-df-quickchart {\n",
              "    background-color: var(--bg-color);\n",
              "    border: none;\n",
              "    border-radius: 50%;\n",
              "    cursor: pointer;\n",
              "    display: none;\n",
              "    fill: var(--fill-color);\n",
              "    height: 32px;\n",
              "    padding: 0;\n",
              "    width: 32px;\n",
              "  }\n",
              "\n",
              "  .colab-df-quickchart:hover {\n",
              "    background-color: var(--hover-bg-color);\n",
              "    box-shadow: 0 1px 2px rgba(60, 64, 67, 0.3), 0 1px 3px 1px rgba(60, 64, 67, 0.15);\n",
              "    fill: var(--button-hover-fill-color);\n",
              "  }\n",
              "\n",
              "  .colab-df-quickchart-complete:disabled,\n",
              "  .colab-df-quickchart-complete:disabled:hover {\n",
              "    background-color: var(--disabled-bg-color);\n",
              "    fill: var(--disabled-fill-color);\n",
              "    box-shadow: none;\n",
              "  }\n",
              "\n",
              "  .colab-df-spinner {\n",
              "    border: 2px solid var(--fill-color);\n",
              "    border-color: transparent;\n",
              "    border-bottom-color: var(--fill-color);\n",
              "    animation:\n",
              "      spin 1s steps(1) infinite;\n",
              "  }\n",
              "\n",
              "  @keyframes spin {\n",
              "    0% {\n",
              "      border-color: transparent;\n",
              "      border-bottom-color: var(--fill-color);\n",
              "      border-left-color: var(--fill-color);\n",
              "    }\n",
              "    20% {\n",
              "      border-color: transparent;\n",
              "      border-left-color: var(--fill-color);\n",
              "      border-top-color: var(--fill-color);\n",
              "    }\n",
              "    30% {\n",
              "      border-color: transparent;\n",
              "      border-left-color: var(--fill-color);\n",
              "      border-top-color: var(--fill-color);\n",
              "      border-right-color: var(--fill-color);\n",
              "    }\n",
              "    40% {\n",
              "      border-color: transparent;\n",
              "      border-right-color: var(--fill-color);\n",
              "      border-top-color: var(--fill-color);\n",
              "    }\n",
              "    60% {\n",
              "      border-color: transparent;\n",
              "      border-right-color: var(--fill-color);\n",
              "    }\n",
              "    80% {\n",
              "      border-color: transparent;\n",
              "      border-right-color: var(--fill-color);\n",
              "      border-bottom-color: var(--fill-color);\n",
              "    }\n",
              "    90% {\n",
              "      border-color: transparent;\n",
              "      border-bottom-color: var(--fill-color);\n",
              "    }\n",
              "  }\n",
              "</style>\n",
              "\n",
              "  <script>\n",
              "    async function quickchart(key) {\n",
              "      const quickchartButtonEl =\n",
              "        document.querySelector('#' + key + ' button');\n",
              "      quickchartButtonEl.disabled = true;  // To prevent multiple clicks.\n",
              "      quickchartButtonEl.classList.add('colab-df-spinner');\n",
              "      try {\n",
              "        const charts = await google.colab.kernel.invokeFunction(\n",
              "            'suggestCharts', [key], {});\n",
              "      } catch (error) {\n",
              "        console.error('Error during call to suggestCharts:', error);\n",
              "      }\n",
              "      quickchartButtonEl.classList.remove('colab-df-spinner');\n",
              "      quickchartButtonEl.classList.add('colab-df-quickchart-complete');\n",
              "    }\n",
              "    (() => {\n",
              "      let quickchartButtonEl =\n",
              "        document.querySelector('#df-03df5ab8-c435-4e92-a755-13e8c620b1f3 button');\n",
              "      quickchartButtonEl.style.display =\n",
              "        google.colab.kernel.accessAllowed ? 'block' : 'none';\n",
              "    })();\n",
              "  </script>\n",
              "</div>\n",
              "\n",
              "    </div>\n",
              "  </div>\n"
            ],
            "application/vnd.google.colaboratory.intrinsic+json": {
              "type": "dataframe",
              "variable_name": "DayOne_Reviews",
              "summary": "{\n  \"name\": \"DayOne_Reviews\",\n  \"rows\": 500,\n  \"fields\": [\n    {\n      \"column\": \"Name\",\n      \"properties\": {\n        \"dtype\": \"string\",\n        \"num_unique_values\": 500,\n        \"samples\": [\n          \"oceanographer(not realy)\",\n          \"GameChangerFanAndrew\",\n          \"LNW LLC\"\n        ],\n        \"semantic_type\": \"\",\n        \"description\": \"\"\n      }\n    },\n    {\n      \"column\": \"UserID\",\n      \"properties\": {\n        \"dtype\": \"number\",\n        \"std\": 305599831,\n        \"min\": 10348379115,\n        \"max\": 11359417633,\n        \"num_unique_values\": 500,\n        \"samples\": [\n          10611322829,\n          11243446024,\n          10590226494\n        ],\n        \"semantic_type\": \"\",\n        \"description\": \"\"\n      }\n    },\n    {\n      \"column\": \"Date\",\n      \"properties\": {\n        \"dtype\": \"object\",\n        \"num_unique_values\": 500,\n        \"samples\": [\n          \"2023-11-21T20:57:17-07:00\",\n          \"2024-05-07T17:09:36-07:00\",\n          \"2023-11-15T20:07:53-07:00\"\n        ],\n        \"semantic_type\": \"\",\n        \"description\": \"\"\n      }\n    },\n    {\n      \"column\": \"Ratings\",\n      \"properties\": {\n        \"dtype\": \"number\",\n        \"std\": 1,\n        \"min\": 1,\n        \"max\": 5,\n        \"num_unique_values\": 5,\n        \"samples\": [\n          1,\n          2,\n          5\n        ],\n        \"semantic_type\": \"\",\n        \"description\": \"\"\n      }\n    },\n    {\n      \"column\": \"Comments\",\n      \"properties\": {\n        \"dtype\": \"string\",\n        \"num_unique_values\": 500,\n        \"samples\": [\n          \"This app is absolutely amazing. Super well done! It helps me organize my crazy life and helps me easily find the dates and context of previous memories through tags and search. I've used it for about 4 years now, if I'm recalling correctly, and I've loved it.\\nI especially love the ability to add photos, tags, and audio. Totally worth the buy.\",\n          \"I haven\\u2019t used this app for long, but I like it so far. Only complaints are not being able to underlined writing and if you accidentally click the Bitmoji\\u2019s icon (if you have the app) while writing it completely breaks the app, and you need to force restart the device because simply closing and swiping out of the app won\\u2019t reset it into working again\",\n          \"I was a fan of journaling on paper for years and just wanted to experiment with something different. 2 years later and this has elevated the way in which I'm able to record the events and moments of my life. It even allowed me to complete some projects collecting audio messages from family members to keep in memory of them forever. Love this app\"\n        ],\n        \"semantic_type\": \"\",\n        \"description\": \"\"\n      }\n    },\n    {\n      \"column\": \"Normalized_Comments\",\n      \"properties\": {\n        \"dtype\": \"string\",\n        \"num_unique_values\": 498,\n        \"samples\": [\n          \"love digital journal elevate journal game\",\n          \"originally give star bug io app prevent type late update fix star use day first experience journaling great macbook consider change star io app bug free month\",\n          \"love digital journal lockable dont worry anyone access glad changeable font well\"\n        ],\n        \"semantic_type\": \"\",\n        \"description\": \"\"\n      }\n    }\n  ]\n}"
            }
          },
          "metadata": {},
          "execution_count": 75
        }
      ]
    },
    {
      "cell_type": "markdown",
      "source": [
        "#Text Tokenization"
      ],
      "metadata": {
        "id": "zNEuXqwi09vz"
      }
    },
    {
      "cell_type": "code",
      "source": [
        "import nltk\n",
        "from nltk.tokenize import sent_tokenize\n",
        "from nltk.tokenize import word_tokenize\n",
        "nltk.download('punkt')"
      ],
      "metadata": {
        "colab": {
          "base_uri": "https://localhost:8080/"
        },
        "id": "dnzw_J711G4J",
        "outputId": "83f858d0-ef4f-4610-f8d7-5a6712d958a1"
      },
      "execution_count": 21,
      "outputs": [
        {
          "output_type": "stream",
          "name": "stderr",
          "text": [
            "[nltk_data] Downloading package punkt to /root/nltk_data...\n",
            "[nltk_data]   Package punkt is already up-to-date!\n"
          ]
        },
        {
          "output_type": "execute_result",
          "data": {
            "text/plain": [
              "True"
            ]
          },
          "metadata": {},
          "execution_count": 21
        }
      ]
    },
    {
      "cell_type": "markdown",
      "source": [
        "###Tokenize using white spaces"
      ],
      "metadata": {
        "id": "8QLNrvlOBH4Q"
      }
    },
    {
      "cell_type": "code",
      "source": [
        "whitespace_wt = nltk.WhitespaceTokenizer()\n",
        "word_tokenized_reviews = []\n",
        "\n",
        "for comment in DayOne_Reviews['Normalized_Comments']:\n",
        "    if isinstance(comment, str):\n",
        "        tokens = whitespace_wt.tokenize(comment)\n",
        "    else:\n",
        "        tokens = []\n",
        "    word_tokenized_reviews.append(tokens)\n",
        "\n",
        "DayOne_Reviews['Word_Tokenized'] = word_tokenized_reviews"
      ],
      "metadata": {
        "id": "_EMuS_b_1Q9_"
      },
      "execution_count": 76,
      "outputs": []
    },
    {
      "cell_type": "markdown",
      "source": [
        "###Stopwords"
      ],
      "metadata": {
        "id": "EoWsLM3GBTdD"
      }
    },
    {
      "cell_type": "code",
      "source": [
        "# get rid of stopwords (\"it's\", \"is\", \"the\", etc.)\n",
        "from nltk.corpus import stopwords\n",
        "nltk.download('stopwords')\n",
        "\n",
        "stop_words=set(stopwords.words(\"english\"))"
      ],
      "metadata": {
        "colab": {
          "base_uri": "https://localhost:8080/"
        },
        "id": "ppA8fxB5BSQL",
        "outputId": "bf80cf74-880b-4302-8602-7d95fcf49348"
      },
      "execution_count": 24,
      "outputs": [
        {
          "output_type": "stream",
          "name": "stderr",
          "text": [
            "[nltk_data] Downloading package stopwords to /root/nltk_data...\n",
            "[nltk_data]   Package stopwords is already up-to-date!\n"
          ]
        }
      ]
    },
    {
      "cell_type": "code",
      "source": [
        "filtered_reviews=[]\n",
        "\n",
        "for tokens in DayOne_Reviews['Word_Tokenized']:\n",
        "    filtered_tokens = []\n",
        "    for word in tokens:\n",
        "        if word.lower() not in stop_words:\n",
        "            filtered_tokens.append(word.lower())\n",
        "    filtered_reviews.append(filtered_tokens)\n",
        "\n",
        "DayOne_Reviews['No_Stop_Words'] = filtered_reviews"
      ],
      "metadata": {
        "id": "5iShGa64CgXA"
      },
      "execution_count": 77,
      "outputs": []
    },
    {
      "cell_type": "markdown",
      "source": [
        "#Stemming and Lemmatization"
      ],
      "metadata": {
        "id": "f1gCkw6lEgiy"
      }
    },
    {
      "cell_type": "code",
      "source": [
        "#from nltk.stem import PorterStemmer\n",
        "\n",
        "#ps = PorterStemmer()"
      ],
      "metadata": {
        "id": "aJuozaL_GTKK"
      },
      "execution_count": 27,
      "outputs": []
    },
    {
      "cell_type": "code",
      "source": [
        "#stemmed_reviews=[]\n",
        "#for tokens in DayOne_Reviews['No_Stop_Words']:\n",
        "#    stemmed_tokens = []\n",
        "#    for word in tokens:\n",
        "#        stemmed_tokens.append(ps.stem(word.lower()))\n",
        "#    stemmed_reviews.append(stemmed_tokens)\n",
        "#DayOne_Reviews['Stemmed_Review'] = stemmed_reviews"
      ],
      "metadata": {
        "id": "oqnAD90qEiFo"
      },
      "execution_count": 41,
      "outputs": []
    },
    {
      "cell_type": "code",
      "source": [
        "from nltk.stem.wordnet import WordNetLemmatizer\n",
        "nltk.download('wordnet')\n",
        "nltk.download('omw-1.4')\n",
        "\n",
        "lem = WordNetLemmatizer()"
      ],
      "metadata": {
        "colab": {
          "base_uri": "https://localhost:8080/"
        },
        "id": "C6yAcVx6Ep4o",
        "outputId": "3a5c713e-a017-4295-bc89-5474be10dfec"
      },
      "execution_count": 61,
      "outputs": [
        {
          "output_type": "stream",
          "name": "stderr",
          "text": [
            "[nltk_data] Downloading package wordnet to /root/nltk_data...\n",
            "[nltk_data]   Package wordnet is already up-to-date!\n",
            "[nltk_data] Downloading package omw-1.4 to /root/nltk_data...\n",
            "[nltk_data]   Package omw-1.4 is already up-to-date!\n"
          ]
        }
      ]
    },
    {
      "cell_type": "code",
      "source": [
        "lemmed_reviews=[]\n",
        "\n",
        "for tokens in DayOne_Reviews['No_Stop_Words']:\n",
        "    lemmed_tokens = []\n",
        "    for word in tokens:\n",
        "        lemmed_tokens.append(lem.lemmatize(word.lower()))\n",
        "    lemmed_reviews.append(lemmed_tokens)\n",
        "\n",
        "DayOne_Reviews['Lemmatized_Review'] = lemmed_reviews"
      ],
      "metadata": {
        "id": "iz1iBIZBGjv5"
      },
      "execution_count": 78,
      "outputs": []
    },
    {
      "cell_type": "code",
      "source": [
        "DayOne_Reviews['Lemmatized_Review'].head()"
      ],
      "metadata": {
        "colab": {
          "base_uri": "https://localhost:8080/"
        },
        "id": "WjZlDlLyfMRm",
        "outputId": "e4e30ce6-42e6-477b-d3b9-f08cd1dd8539"
      },
      "execution_count": 79,
      "outputs": [
        {
          "output_type": "execute_result",
          "data": {
            "text/plain": [
              "0    [start, best, pure, ipad, quite, bit, slide, s...\n",
              "1    [information, keep, capture, track, informatio...\n",
              "2    [dear, loyal, customer, favorite, entire, life...\n",
              "3    [unable, open, freeze, middle, last, update, d...\n",
              "4    [take, away, underline, lot, maybe, miss, peop...\n",
              "Name: Lemmatized_Review, dtype: object"
            ]
          },
          "metadata": {},
          "execution_count": 79
        }
      ]
    },
    {
      "cell_type": "markdown",
      "source": [
        "# Analyze"
      ],
      "metadata": {
        "id": "EO51vWuuIeGi"
      }
    },
    {
      "cell_type": "code",
      "source": [
        "import matplotlib.pyplot as plt\n",
        "from collections import Counter\n",
        "import seaborn as sns"
      ],
      "metadata": {
        "id": "PltzPlHRiZAk"
      },
      "execution_count": 48,
      "outputs": []
    },
    {
      "cell_type": "code",
      "source": [
        "# Calculate the average rating\n",
        "average_rating = DayOne_Reviews['Ratings'].mean()\n",
        "\n",
        "# Extract and preprocess comments (without NLTK stopwords)\n",
        "comments = ' '.join(DayOne_Reviews['Comments'].astype(str).tolist()).lower()\n",
        "comments_words = [word for word in comments.split() if word.isalpha()]\n",
        "common_words = Counter(comments_words).most_common(10)\n",
        "\n",
        "\n",
        "# Extract date and ratings for trend analysis\n",
        "DayOne_Reviews['Date'] = pd.to_datetime(DayOne_Reviews['Date'])\n",
        "ratings_over_time = DayOne_Reviews.resample('M', on='Date')['Ratings'].mean()\n",
        "\n",
        "# Display results\n",
        "print(average_rating)\n",
        "print(rating_distribution)\n",
        "print(common_words)\n",
        "print(ratings_over_time.head())\n",
        "\n",
        "# Plot the distribution of ratings\n",
        "plt.figure(figsize=(10, 6))\n",
        "sns.barplot(x=rating_distribution.index, y=rating_distribution.values, palette='viridis')\n",
        "plt.xlabel('Ratings')\n",
        "plt.ylabel('Number of Reviews')\n",
        "plt.title('Distribution of Ratings')\n",
        "plt.show()\n",
        "\n",
        "# Plot the trend of ratings over time\n",
        "plt.figure(figsize=(14, 7))\n",
        "ratings_over_time.plot(marker='o')\n",
        "plt.xlabel('Date')\n",
        "plt.ylabel('Average Rating')\n",
        "plt.title('Trend of Ratings Over Time')\n",
        "plt.grid(True)\n",
        "plt.show()"
      ],
      "metadata": {
        "colab": {
          "base_uri": "https://localhost:8080/",
          "height": 1000
        },
        "id": "VbNxG1wViPw0",
        "outputId": "0a74ac7e-0548-4bcd-a681-ab1613ea8cf8"
      },
      "execution_count": 80,
      "outputs": [
        {
          "output_type": "stream",
          "name": "stdout",
          "text": [
            "4.056\n",
            "Ratings\n",
            "1     444\n",
            "2     168\n",
            "3     138\n",
            "4     276\n",
            "5    1974\n",
            "Name: count, dtype: int64\n",
            "[('i', 1421), ('the', 1219), ('to', 1144), ('and', 975), ('a', 747), ('it', 542), ('my', 485), ('for', 478), ('this', 464), ('of', 410)]\n",
            "Date\n",
            "2023-09-30 00:00:00-07:00    4.363636\n",
            "2023-10-31 00:00:00-07:00    4.600000\n",
            "2023-11-30 00:00:00-07:00    4.416667\n",
            "2023-12-31 00:00:00-07:00    3.925926\n",
            "2024-01-31 00:00:00-07:00    4.054795\n",
            "Freq: M, Name: Ratings, dtype: float64\n"
          ]
        },
        {
          "output_type": "display_data",
          "data": {
            "text/plain": [
              "<Figure size 1000x600 with 1 Axes>"
            ],
            "image/png": "[encoded data removed]"
          },
          "metadata": {}
        },
        {
          "output_type": "display_data",
          "data": {
            "text/plain": [
              "<Figure size 1400x700 with 1 Axes>"
            ],
            "image/png": "[encoded data removed]"
          },
          "metadata": {}
        }
      ]
    },
    {
      "cell_type": "code",
      "source": [
        "pip install pyspark"
      ],
      "metadata": {
        "colab": {
          "base_uri": "https://localhost:8080/"
        },
        "id": "0AWO0o4uJV6s",
        "outputId": "b3354bff-e7d1-4d39-e2d9-709d217e9e2f"
      },
      "execution_count": 34,
      "outputs": [
        {
          "output_type": "stream",
          "name": "stdout",
          "text": [
            "Collecting pyspark\n",
            "  Downloading pyspark-3.5.1.tar.gz (317.0 MB)\n",
            "\u001b[2K     \u001b[90m━━━━━━━━━━━━━━━━━━━━━━━━━━━━━━━━━━━━━━━━\u001b[0m \u001b[32m317.0/317.0 MB\u001b[0m \u001b[31m3.2 MB/s\u001b[0m eta \u001b[36m0:00:00\u001b[0m\n",
            "\u001b[?25h  Preparing metadata (setup.py) ... \u001b[?25l\u001b[?25hdone\n",
            "Requirement already satisfied: py4j==0.10.9.7 in /usr/local/lib/python3.10/dist-packages (from pyspark) (0.10.9.7)\n",
            "Building wheels for collected packages: pyspark\n",
            "  Building wheel for pyspark (setup.py) ... \u001b[?25l\u001b[?25hdone\n",
            "  Created wheel for pyspark: filename=pyspark-3.5.1-py2.py3-none-any.whl size=317488491 sha256=bf213732e45672b6cb97b6f6fe040d7104200a33c288925468785b71c04ba07d\n",
            "  Stored in directory: /root/.cache/pip/wheels/80/1d/60/2c256ed38dddce2fdd93be545214a63e02fbd8d74fb0b7f3a6\n",
            "Successfully built pyspark\n",
            "Installing collected packages: pyspark\n",
            "Successfully installed pyspark-3.5.1\n"
          ]
        }
      ]
    },
    {
      "cell_type": "code",
      "source": [
        "from pyspark.sql import SparkSession\n",
        "from pyspark.sql.functions import explode, split, col, avg, count"
      ],
      "metadata": {
        "id": "R83HhTPOJPpv"
      },
      "execution_count": 52,
      "outputs": []
    },
    {
      "cell_type": "code",
      "source": [
        "# create spark\n",
        "spark = SparkSession.builder.appName(\"ReviewWordCount\").getOrCreate()\n",
        "\n",
        "# pandas DataFrame -> PySpark DataFrame\n",
        "spark_df = spark.createDataFrame(DayOne_Reviews)\n",
        "\n",
        "# split words\n",
        "spark_df_exploded = spark_df.withColumn('Word', explode(col('Lemmatized_Review')))\n",
        "\n",
        "additional_stop_words = [\"app\", \"journal\", \"journaling\", \"use\", \"day\", \"love\", \"year\", \"entry\", \"like\", \"write\", \"time\", \"ive\", \"im\", \"want\", \"dont\", \"need\", \"way\", \"even\", \"good\", \"much\", \"doesnt\",\"could\",\"really\",\"best\"]\n",
        "stop_words.update(additional_stop_words)\n",
        "\n",
        "spark_df_filtered = spark_df_exploded.filter(~col('Word').isin(stop_words))\n",
        "\n",
        "ratings = [1, 2, 3, 4, 5]\n",
        "for rating in ratings:\n",
        "    print(f\"Top words for rating {rating}:\")\n",
        "    rating_df = spark_df_filtered.filter(col('Ratings') == rating)\n",
        "    word_counts = rating_df.groupBy('Word').agg(count('Word').alias('count')).orderBy(col('count').desc())\n",
        "    top_words = word_counts.limit(10)\n",
        "    top_words.show()\n",
        "\n",
        "spark.stop()"
      ],
      "metadata": {
        "colab": {
          "base_uri": "https://localhost:8080/"
        },
        "id": "S38T6NIAIbuk",
        "outputId": "f86cd24e-8896-4c56-f3da-15f8aea5a749"
      },
      "execution_count": 84,
      "outputs": [
        {
          "output_type": "stream",
          "name": "stdout",
          "text": [
            "Top words for rating 1:\n",
            "+------------+-----+\n",
            "|        Word|count|\n",
            "+------------+-----+\n",
            "|     support|   27|\n",
            "|         new|   22|\n",
            "|         pay|   22|\n",
            "|       email|   20|\n",
            "|      change|   19|\n",
            "|subscription|   19|\n",
            "|      update|   19|\n",
            "|        look|   17|\n",
            "|        user|   16|\n",
            "|       apple|   16|\n",
            "+------------+-----+\n",
            "\n",
            "Top words for rating 2:\n",
            "+------------+-----+\n",
            "|        Word|count|\n",
            "+------------+-----+\n",
            "|     support|   14|\n",
            "|subscription|   11|\n",
            "|       photo|    9|\n",
            "|        user|    8|\n",
            "|        work|    8|\n",
            "|      change|    8|\n",
            "|      update|    7|\n",
            "|         new|    7|\n",
            "|         pay|    7|\n",
            "|  everything|    7|\n",
            "+------------+-----+\n",
            "\n",
            "Top words for rating 3:\n",
            "+-------+-----+\n",
            "|   Word|count|\n",
            "+-------+-----+\n",
            "|   work|    9|\n",
            "|    new|    7|\n",
            "| update|    7|\n",
            "|   sync|    6|\n",
            "| option|    6|\n",
            "| icloud|    6|\n",
            "| change|    6|\n",
            "|version|    6|\n",
            "|   wish|    5|\n",
            "|    hit|    5|\n",
            "+-------+-----+\n",
            "\n",
            "Top words for rating 4:\n",
            "+--------+-----+\n",
            "|    Word|count|\n",
            "+--------+-----+\n",
            "|  update|   14|\n",
            "| premium|   14|\n",
            "|   photo|   14|\n",
            "|   thing|   10|\n",
            "|    able|    9|\n",
            "|  create|    9|\n",
            "|     add|    9|\n",
            "|  change|    9|\n",
            "|multiple|    9|\n",
            "| support|    8|\n",
            "+--------+-----+\n",
            "\n",
            "Top words for rating 5:\n",
            "+-------+-----+\n",
            "|   Word|count|\n",
            "+-------+-----+\n",
            "|   easy|   72|\n",
            "|   keep|   64|\n",
            "|  great|   59|\n",
            "|   life|   59|\n",
            "|  daily|   55|\n",
            "|  photo|   51|\n",
            "|    add|   47|\n",
            "|  thing|   46|\n",
            "|thought|   45|\n",
            "|   look|   40|\n",
            "+-------+-----+\n",
            "\n"
          ]
        }
      ]
    },
    {
      "cell_type": "code",
      "source": [
        "# create spark\n",
        "spark = SparkSession.builder.appName(\"ReviewWordCount\").getOrCreate()\n",
        "\n",
        "# pandas DataFrame -> PySpark DataFrame\n",
        "spark_df = spark.createDataFrame(DayOne_Reviews)\n",
        "\n",
        "# split words\n",
        "spark_df_exploded = spark_df.withColumn('Word', explode(col('Lemmatized_Review')))\n",
        "\n",
        "additional_stop_words = [\"app\", \"journal\", \"journaling\", \"use\", \"day\", \"love\", \"year\", \"entry\", \"like\", \"write\", \"time\", \"ive\", \"im\", \"want\", \"dont\", \"need\", \"way\", \"even\", \"good\", \"much\", \"doesnt\",\"could\",\"really\",\"best\"]\n",
        "stop_words.update(additional_stop_words)\n",
        "\n",
        "spark_df_filtered = spark_df_exploded.filter(~col('Word').isin(stop_words))\n",
        "\n",
        "word_counts = spark_df_filtered.groupBy('Word').agg(count('Word').alias('count')).orderBy(col('count').desc())\n",
        "top_words = word_counts.limit(30)\n",
        "top_words.show(n=30, truncate=False)\n",
        "\n",
        "spark.stop()"
      ],
      "metadata": {
        "colab": {
          "base_uri": "https://localhost:8080/"
        },
        "id": "ic6I1E1tztsm",
        "outputId": "eea95837-a555-40e6-aa9c-671436e99dae"
      },
      "execution_count": 88,
      "outputs": [
        {
          "output_type": "stream",
          "name": "stdout",
          "text": [
            "+------------+-----+\n",
            "|Word        |count|\n",
            "+------------+-----+\n",
            "|photo       |82   |\n",
            "|easy        |81   |\n",
            "|keep        |80   |\n",
            "|life        |75   |\n",
            "|new         |74   |\n",
            "|add         |74   |\n",
            "|great       |74   |\n",
            "|work        |70   |\n",
            "|thing       |67   |\n",
            "|look        |67   |\n",
            "|pay         |62   |\n",
            "|daily       |61   |\n",
            "|subscription|59   |\n",
            "|update      |59   |\n",
            "|support     |57   |\n",
            "|change      |57   |\n",
            "|well        |56   |\n",
            "|premium     |56   |\n",
            "|version     |56   |\n",
            "|user        |53   |\n",
            "|able        |53   |\n",
            "|many        |51   |\n",
            "|option      |48   |\n",
            "|thought     |48   |\n",
            "|apple       |48   |\n",
            "|every       |48   |\n",
            "|free        |47   |\n",
            "|think       |45   |\n",
            "|give        |44   |\n",
            "|note        |43   |\n",
            "+------------+-----+\n",
            "\n"
          ]
        }
      ]
    },
    {
      "cell_type": "markdown",
      "source": [
        "##Subscription-related"
      ],
      "metadata": {
        "id": "bLnbSc3e75gX"
      }
    },
    {
      "cell_type": "code",
      "source": [
        "DayOne_Reviews['Contains_Subscription'] = DayOne_Reviews['Lemmatized_Review'].apply(lambda x: 'subscription' in x)\n",
        "\n",
        "subscription_comments = DayOne_Reviews[DayOne_Reviews['Contains_Subscription']]\n",
        "\n",
        "if 'Date' in subscription_comments.columns:\n",
        "    subscription_comments['Date'] = subscription_comments['Date'].astype(str)\n",
        "\n",
        "output_file_path = \"Subscription_Comments.xlsx\"\n",
        "subscription_comments.to_excel(output_file_path, index=False)"
      ],
      "metadata": {
        "colab": {
          "base_uri": "https://localhost:8080/"
        },
        "id": "WPs8Kvfi78Rc",
        "outputId": "c1d11e6a-fc95-43b3-f1fe-25e8632efe40"
      },
      "execution_count": 90,
      "outputs": [
        {
          "output_type": "stream",
          "name": "stderr",
          "text": [
            "<ipython-input-90-ee70bd5c8235>:6: SettingWithCopyWarning: \n",
            "A value is trying to be set on a copy of a slice from a DataFrame.\n",
            "Try using .loc[row_indexer,col_indexer] = value instead\n",
            "\n",
            "See the caveats in the documentation: https://pandas.pydata.org/pandas-docs/stable/user_guide/indexing.html#returning-a-view-versus-a-copy\n",
            "  subscription_comments['Date'] = subscription_comments['Date'].astype(str)\n"
          ]
        }
      ]
    },
    {
      "cell_type": "code",
      "source": [
        "subscription_comments = pd.read_excel(\"Subscription_Comments.xlsx\")"
      ],
      "metadata": {
        "id": "SI1zNk76EEqA"
      },
      "execution_count": 91,
      "outputs": []
    },
    {
      "cell_type": "code",
      "source": [
        "rating_distribution = subscription_comments['Ratings'].value_counts().sort_index()\n",
        "\n",
        "import matplotlib.pyplot as plt\n",
        "\n",
        "plt.figure(figsize=(10, 6))\n",
        "rating_distribution.plot(kind='bar')\n",
        "plt.xlabel('Ratings')\n",
        "plt.ylabel('Number of Comments')\n",
        "plt.title('Distribution of Ratings for Subscription Comments')\n",
        "plt.show()"
      ],
      "metadata": {
        "colab": {
          "base_uri": "https://localhost:8080/",
          "height": 559
        },
        "id": "A_pTS23PEF97",
        "outputId": "4ced0f7e-c5d7-4cdd-d287-a43fc514e06e"
      },
      "execution_count": 92,
      "outputs": [
        {
          "output_type": "display_data",
          "data": {
            "text/plain": [
              "<Figure size 1000x600 with 1 Axes>"
            ],
            "image/png": "[encoded data removed]"
          },
          "metadata": {}
        }
      ]
    },
    {
      "cell_type": "code",
      "source": [
        "all_words = [word for comment in subscription_comments['Comments'].dropna() for word in nltk.word_tokenize(comment.lower())]\n",
        "\n",
        "\n",
        "stop_words = set(stopwords.words(\"english\"))\n",
        "additional_stop_words = [\"app\", \"journal\", \"journaling\", \"use\", \"day\", \"love\", \"year\", \"entry\", \"like\", \"write\", \"time\", \"ive\", \"im\", \"want\", \"dont\", \"need\", \"way\", \"even\", \"good\", \"much\", \"doesnt\",\"could\",\"really\",\"best\"]\n",
        "stop_words.update(additional_stop_words)\n",
        "filtered_words = [word for word in all_words if word.isalpha() and word not in stop_words]\n",
        "\n",
        "\n",
        "word_freq = Counter(filtered_words)\n",
        "\n",
        "common_words = word_freq.most_common(20)\n",
        "common_words_df = pd.DataFrame(common_words, columns=['Word', 'Count'])\n",
        "\n",
        "\n",
        "plt.figure(figsize=(14, 7))\n",
        "common_words_df.set_index('Word').plot(kind='bar', legend=False)\n",
        "plt.ylabel('Count')\n",
        "plt.title('Most Common Words in Subscription Comments')\n",
        "plt.show()"
      ],
      "metadata": {
        "colab": {
          "base_uri": "https://localhost:8080/",
          "height": 559
        },
        "id": "NqqgOSrHEWE0",
        "outputId": "e31c5dd9-58d9-4271-fd78-0d61e3031350"
      },
      "execution_count": 93,
      "outputs": [
        {
          "output_type": "display_data",
          "data": {
            "text/plain": [
              "<Figure size 1400x700 with 0 Axes>"
            ]
          },
          "metadata": {}
        },
        {
          "output_type": "display_data",
          "data": {
            "text/plain": [
              "<Figure size 640x480 with 1 Axes>"
            ],
            "image/png": "[encoded data removed]"
          },
          "metadata": {}
        }
      ]
    },
    {
      "cell_type": "code",
      "source": [
        "from textblob import TextBlob\n",
        "subscription_comments['Sentiment'] = subscription_comments['Comments'].apply(lambda x: TextBlob(x).sentiment.polarity)\n",
        "\n",
        "plt.figure(figsize=(10, 6))\n",
        "subscription_comments['Sentiment'].plot(kind='hist', bins=50)\n",
        "plt.xlabel('Sentiment Score')\n",
        "plt.ylabel('Number of Comments')\n",
        "plt.title('Sentiment Distribution of Subscription Comments')\n",
        "plt.show()\n",
        "\n",
        "sentiment_summary = subscription_comments['Sentiment'].describe()\n",
        "print(sentiment_summary)"
      ],
      "metadata": {
        "colab": {
          "base_uri": "https://localhost:8080/",
          "height": 720
        },
        "id": "9VsMZeNGEsw-",
        "outputId": "8be4f048-f940-4a16-9e22-216fca7ba52f"
      },
      "execution_count": 94,
      "outputs": [
        {
          "output_type": "display_data",
          "data": {
            "text/plain": [
              "<Figure size 1000x600 with 1 Axes>"
            ],
            "image/png": "[encoded data removed]"
          },
          "metadata": {}
        },
        {
          "output_type": "stream",
          "name": "stdout",
          "text": [
            "count    41.000000\n",
            "mean      0.174472\n",
            "std       0.200461\n",
            "min      -0.500000\n",
            "25%       0.083333\n",
            "50%       0.191964\n",
            "75%       0.292593\n",
            "max       0.582487\n",
            "Name: Sentiment, dtype: float64\n"
          ]
        }
      ]
    }
  ]
}