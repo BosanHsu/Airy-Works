{
  "nbformat": 4,
  "nbformat_minor": 0,
  "metadata": {
    "colab": {
      "provenance": []
    },
    "kernelspec": {
      "name": "python3",
      "display_name": "Python 3"
    },
    "language_info": {
      "name": "python"
    }
  },
  "cells": [
    {
      "cell_type": "code",
      "execution_count": 3,
      "metadata": {
        "colab": {
          "base_uri": "https://localhost:8080/"
        },
        "id": "YgREqX5fXJU6",
        "outputId": "7cb9347f-1ffb-4cdd-ce8d-a9182dbaa6c6"
      },
      "outputs": [
        {
          "output_type": "stream",
          "name": "stdout",
          "text": [
            "Requirement already satisfied: requests in /usr/local/lib/python3.10/dist-packages (2.23.0)\n",
            "Requirement already satisfied: openpyxl in /usr/local/lib/python3.10/dist-packages (3.1.3)\n",
            "Requirement already satisfied: chardet<4,>=3.0.2 in /usr/local/lib/python3.10/dist-packages (from requests) (3.0.4)\n",
            "Requirement already satisfied: idna<3,>=2.5 in /usr/local/lib/python3.10/dist-packages (from requests) (2.10)\n",
            "Requirement already satisfied: urllib3!=1.25.0,!=1.25.1,<1.26,>=1.21.1 in /usr/local/lib/python3.10/dist-packages (from requests) (1.25.11)\n",
            "Requirement already satisfied: certifi>=2017.4.17 in /usr/local/lib/python3.10/dist-packages (from requests) (2024.6.2)\n",
            "Requirement already satisfied: et-xmlfile in /usr/local/lib/python3.10/dist-packages (from openpyxl) (1.1.0)\n"
          ]
        }
      ],
      "source": [
        "pip install requests openpyxl"
      ]
    },
    {
      "cell_type": "code",
      "source": [
        "import requests\n",
        "import json\n",
        "import time\n",
        "import openpyxl"
      ],
      "metadata": {
        "id": "eay0dBG0lPDJ"
      },
      "execution_count": 4,
      "outputs": []
    },
    {
      "cell_type": "code",
      "source": [
        "def search_app_id(app_name):\n",
        "    url = f\"https://itunes.apple.com/search?term={app_name}&entity=software\"\n",
        "    response = requests.get(url)\n",
        "    data = response.json()\n",
        "    results = data.get('results', [])\n",
        "    for result in results:\n",
        "        name = result.get('trackName')\n",
        "        app_id = result.get('trackId')\n",
        "        print(f\"Name: {name}, ID: {app_id}\")\n",
        "    return results"
      ],
      "metadata": {
        "id": "T-i4vVAJepXH"
      },
      "execution_count": 5,
      "outputs": []
    },
    {
      "cell_type": "code",
      "source": [
        "# Test\n",
        "results = search_app_id(\"day-one-journal-private-diary\")\n",
        "if results:\n",
        "    app_id = results[0]['trackId']\n",
        "    print(f\"App ID: {app_id}\")"
      ],
      "metadata": {
        "colab": {
          "base_uri": "https://localhost:8080/"
        },
        "id": "_D39emVWeumr",
        "outputId": "9c4dca33-3cc9-419c-faba-bc1987adab7f"
      },
      "execution_count": 6,
      "outputs": [
        {
          "output_type": "stream",
          "name": "stdout",
          "text": [
            "Name: Day One Journal: Private Diary, ID: 1044867788\n",
            "Name: 1 Second Everyday Diary, ID: 587823548\n",
            "Name: Tinybeans Private Family Album, ID: 521633042\n",
            "Name: Diarly: Diary, Private Journal, ID: 1387167765\n",
            "Name: Diary-Journal with lock, ID: 1590102229\n",
            "Name: Happyfeed: Video Diary Journal, ID: 707073943\n",
            "Name: Diary With Password, ID: 1252208166\n",
            "Name: May Diary - Gratitude Journal, ID: 658236285\n",
            "Name: My Diary - Private Journal, ID: 6478656385\n",
            "Name: Diary - Private Note With Lock, ID: 1454490013\n",
            "Name: My Wonderful Days Journal, ID: 434356065\n",
            "Name: Personal Diary (Journal) App, ID: 1052570257\n",
            "Name: OneDay - Diary Journal, ID: 1578156802\n",
            "Name: Diary, Journal, Notes - Diaro, ID: 882519460\n",
            "Name: GoJournal: Diary & Planner, ID: 1596865689\n",
            "Name: Video Dairy: Daily Journal, ID: 1483531474\n",
            "Name: Secret Diary-Gratitude Journal, ID: 1107242504\n",
            "Name: Simple Diary - Daily Journal, ID: 1388195923\n",
            "Name: Diary Journal - With Lock, ID: 1572225395\n",
            "Name: Orange Diary-Gratitude Journal, ID: 1066756614\n",
            "Name: Journal Today: A Private Diary, ID: 1586753437\n",
            "Name: Diary Card - journal with lock, ID: 1532698756\n",
            "Name: Everlog Journal, ID: 1519935634\n",
            "Name: Grateful: A Gratitude Journal, ID: 1197512462\n",
            "Name: Cute Journal - private diary, ID: 1602190978\n",
            "Name: Morning Pages – Daily Journal, ID: 1223874080\n",
            "Name: Diary ·, ID: 1447344390\n",
            "Name: Once 2 - Immersive Diary Book, ID: 1633788837\n",
            "Name: Jade Journal, ID: 1026891008\n",
            "Name: Orange Diary - Private Journal, ID: 1341161719\n",
            "Name: Daily Journal with Lock－Muse, ID: 1151869610\n",
            "Name: A Day in Life - Diary, Notes & Photo Journal, ID: 765576750\n",
            "Name: Journal Air: My Positive Diary, ID: 1608576689\n",
            "Name: Styary - Diary / Journal / Calendar / Notebooks, ID: 1080566986\n",
            "Name: iMood-Diary Journal, ID: 1491643647\n",
            "Name: Days: Daily Journal & Memories, ID: 6475231046\n",
            "Name: MooDay Diary - Recode Your Life, ID: 1090759573\n",
            "Name: Personal diary with password, ID: 1512723791\n",
            "Name: Lifelight - AI Journal & Note, ID: 1631169735\n",
            "Name: Guided Journal, ID: 1527459078\n",
            "Name: GoblinX ADHD, Pomodoro & TODO, ID: 6462700951\n",
            "Name: Quick Daily Journal, ID: 1224797713\n",
            "Name: Mini journal - Cute diary, ID: 6476841474\n",
            "Name: Diary with Lock, Photo, Video, ID: 6446240418\n",
            "Name: My Treehole - My Secret Diary, ID: 1289552086\n",
            "Name: Diary Journal Notes: OneDiary, ID: 6458145030\n",
            "Name: Haptic: Daily Habit Tracker, ID: 1479167334\n",
            "Name: Memo - Notepad for Note Taking, ID: 1004291915\n",
            "Name: Time Diary - Daily Journal, ID: 1627974897\n",
            "Name: My Journal., ID: 1528552385\n",
            "App ID: 1044867788\n"
          ]
        }
      ]
    },
    {
      "cell_type": "code",
      "source": [
        "def save_content(app_id, workbook, worksheet, total_reviews):\n",
        "\n",
        "    row = 2  # skip title\n",
        "    reviews_fetched = 0\n",
        "    page = 1\n",
        "\n",
        "    while reviews_fetched < total_reviews:\n",
        "      for page in range(1, 11):  # first 10 page\n",
        "          url = f\"https://itunes.apple.com/rss/customerreviews/page={page}/id={app_id}/sortby=mostrecent/json?l=en&&cc=us\" #cc = country name\n",
        "          response = requests.get(url)\n",
        "          if response.status_code == 200:\n",
        "              try:\n",
        "                  data = response.json().get(\"feed\", {}).get(\"entry\", [])\n",
        "                  if not data:\n",
        "                    print(\"No more reviews found.\")\n",
        "                    break\n",
        "\n",
        "                  for entry in data:\n",
        "                      if reviews_fetched >= total_reviews:\n",
        "                        break\n",
        "                      name = entry.get('author', {}).get('name', {}).get('label')\n",
        "                      user_id = entry.get('id', {}).get('label')\n",
        "                      review_date = entry.get('updated', {}).get('label')\n",
        "                      rating = entry.get('im:rating', {}).get('label')\n",
        "                      content = entry.get('content', {}).get('label')\n",
        "\n",
        "                      # import to excel\n",
        "                      worksheet.cell(row=row, column=1, value=name)\n",
        "                      worksheet.cell(row=row, column=2, value=user_id)\n",
        "                      worksheet.cell(row=row, column=3, value=review_date)\n",
        "                      worksheet.cell(row=row, column=4, value=rating)\n",
        "                      worksheet.cell(row=row, column=5, value=content)\n",
        "                      row += 1\n",
        "                      reviews_fetched += 1\n",
        "\n",
        "                  page += 1\n",
        "\n",
        "              except KeyError:\n",
        "                  print(\"No more reviews\")\n",
        "                  break\n",
        "          else:\n",
        "              break\n",
        "          time.sleep(2)  # lag for 2 secs\n",
        "\n",
        "def main():\n",
        "    app_name = input(\"APP's name:\\n\")\n",
        "    results = search_app_id(app_name)\n",
        "    if not results:\n",
        "        print(\"No related APP\")\n",
        "        return\n",
        "\n",
        "    app_id = results[0].get('trackId')  # Use the first App ID showed\n",
        "\n",
        "\n",
        "    workbook = openpyxl.Workbook()\n",
        "    worksheet = workbook.active\n",
        "    valid_title = app_name.replace(':', '').replace('\\\\', '').replace('/', '').replace('?', '').replace('*', '').replace('[', '').replace(']', '')\n",
        "    worksheet.title = valid_title\n",
        "    worksheet.cell(row=1, column=1, value=\"Name\")\n",
        "    worksheet.cell(row=1, column=2, value=\"UserID\")\n",
        "    worksheet.cell(row=1, column=3, value=\"Date\")\n",
        "    worksheet.cell(row=1, column=4, value=\"Ratings\")\n",
        "    worksheet.cell(row=1, column=5, value=\"Comments\")\n",
        "\n",
        "    total_reviews = int(input(\"How many reviews?:\\n\"))\n",
        "\n",
        "    save_content(app_id, workbook, worksheet, total_reviews)\n",
        "\n",
        "    workbook.save(f\"{valid_title}_Reviews.xlsx\")\n",
        "\n",
        "if __name__ == '__main__':\n",
        "    main()"
      ],
      "metadata": {
        "colab": {
          "base_uri": "https://localhost:8080/"
        },
        "id": "eWK6bcyrfKYe",
        "outputId": "4c444f80-27ca-466d-86a9-779358cce012"
      },
      "execution_count": 16,
      "outputs": [
        {
          "name": "stdout",
          "output_type": "stream",
          "text": [
            "APP's name:\n",
            "Day One Journal: Private Diary\n",
            "Name: Day One Journal: Private Diary, ID: 1044867788\n",
            "Name: 1 Second Everyday Diary, ID: 587823548\n",
            "Name: Tinybeans Private Family Album, ID: 521633042\n",
            "Name: Diarly: Diary, Private Journal, ID: 1387167765\n",
            "Name: Diary-Journal with lock, ID: 1590102229\n",
            "Name: Happyfeed: Video Diary Journal, ID: 707073943\n",
            "Name: Diary With Password, ID: 1252208166\n",
            "Name: May Diary - Gratitude Journal, ID: 658236285\n",
            "Name: My Diary - Private Journal, ID: 6478656385\n",
            "Name: Diary - Private Note With Lock, ID: 1454490013\n",
            "Name: My Wonderful Days Journal, ID: 434356065\n",
            "Name: Personal Diary (Journal) App, ID: 1052570257\n",
            "Name: OneDay - Diary Journal, ID: 1578156802\n",
            "Name: Diary, Journal, Notes - Diaro, ID: 882519460\n",
            "Name: GoJournal: Diary & Planner, ID: 1596865689\n",
            "Name: Video Dairy: Daily Journal, ID: 1483531474\n",
            "Name: Secret Diary-Gratitude Journal, ID: 1107242504\n",
            "Name: Simple Diary - Daily Journal, ID: 1388195923\n",
            "Name: Diary Journal - With Lock, ID: 1572225395\n",
            "Name: Orange Diary-Gratitude Journal, ID: 1066756614\n",
            "Name: Journal Today: A Private Diary, ID: 1586753437\n",
            "Name: Diary Card - journal with lock, ID: 1532698756\n",
            "Name: Everlog Journal, ID: 1519935634\n",
            "Name: Grateful: A Gratitude Journal, ID: 1197512462\n",
            "Name: Cute Journal - private diary, ID: 1602190978\n",
            "Name: Morning Pages – Daily Journal, ID: 1223874080\n",
            "Name: Diary ·, ID: 1447344390\n",
            "Name: Once 2 - Immersive Diary Book, ID: 1633788837\n",
            "Name: Jade Journal, ID: 1026891008\n",
            "Name: Orange Diary - Private Journal, ID: 1341161719\n",
            "Name: Daily Journal with Lock－Muse, ID: 1151869610\n",
            "Name: A Day in Life - Diary, Notes & Photo Journal, ID: 765576750\n",
            "Name: Journal Air: My Positive Diary, ID: 1608576689\n",
            "Name: Styary - Diary / Journal / Calendar / Notebooks, ID: 1080566986\n",
            "Name: iMood-Diary Journal, ID: 1491643647\n",
            "Name: Days: Daily Journal & Memories, ID: 6475231046\n",
            "Name: MooDay Diary - Recode Your Life, ID: 1090759573\n",
            "Name: Personal diary with password, ID: 1512723791\n",
            "Name: Lifelight - AI Journal & Note, ID: 1631169735\n",
            "Name: Guided Journal, ID: 1527459078\n",
            "Name: GoblinX ADHD, Pomodoro & TODO, ID: 6462700951\n",
            "Name: Quick Daily Journal, ID: 1224797713\n",
            "Name: Mini journal - Cute diary, ID: 6476841474\n",
            "Name: Diary with Lock, Photo, Video, ID: 6446240418\n",
            "Name: My Treehole - My Secret Diary, ID: 1289552086\n",
            "Name: Diary Journal Notes: OneDiary, ID: 6458145030\n",
            "Name: Haptic: Daily Habit Tracker, ID: 1479167334\n",
            "Name: Memo - Notepad for Note Taking, ID: 1004291915\n",
            "Name: Time Diary - Daily Journal, ID: 1627974897\n",
            "Name: My Journal., ID: 1528552385\n",
            "How many reviews?:\n",
            "3000\n"
          ]
        }
      ]
    },
    {
      "cell_type": "code",
      "source": [],
      "metadata": {
        "id": "DppkV-mcgarU"
      },
      "execution_count": null,
      "outputs": []
    },
    {
      "cell_type": "code",
      "source": [],
      "metadata": {
        "id": "DjSKKlxrgjj1"
      },
      "execution_count": null,
      "outputs": []
    }
  ]
}